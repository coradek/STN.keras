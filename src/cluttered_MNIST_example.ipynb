{
 "cells": [
  {
   "cell_type": "code",
   "execution_count": 1,
   "metadata": {},
   "outputs": [],
   "source": [
    "import sys\n",
    "from tensorflow.python.keras import backend as K\n",
    "from data_manager import ClutteredMNIST\n",
    "from visualizer import plot_mnist_sample\n",
    "from visualizer import print_evaluation\n",
    "from visualizer import plot_mnist_grid\n",
    "from models import STN"
   ]
  },
  {
   "cell_type": "code",
   "execution_count": 2,
   "metadata": {},
   "outputs": [
    {
     "data": {
      "image/png": "[encoded data removed]",
      "text/plain": [
       "<Figure size 504x504 with 1 Axes>"
      ]
     },
     "metadata": {
      "needs_background": "light"
     },
     "output_type": "display_data"
    }
   ],
   "source": [
    "# dataset_path = \"../datasets/mnist_cluttered_60x60_6distortions.npz\"\n",
    "# BATCH_SIZE = 64\n",
    "# EPOCHS = 2\n",
    "\n",
    "# data_manager = ClutteredMNIST(dataset_path)\n",
    "# train_data, val_data, test_data = data_manager.load()\n",
    "# x_train, y_train = train_data\n",
    "# plot_mnist_sample(x_train[7])\n",
    "\n",
    "import numpy as np\n",
    "dataset_path = \"../datasets/mini_data.npz\"\n",
    "BATCH_SIZE = 5\n",
    "EPOCHS = 2\n",
    "\n",
    "data = np.load(dataset_path)\n",
    "x_train, y_train = data['x'], data['y']\n",
    "plot_mnist_sample(x_train[4])"
   ]
  },
  {
   "cell_type": "code",
   "execution_count": 3,
   "metadata": {
    "scrolled": false
   },
   "outputs": [
    {
     "name": "stdout",
     "output_type": "stream",
     "text": [
      "__init__ called\n",
      "(30, 30)\n",
      "build called\n",
      "_transform called\n",
      "_make_regular_grids called\n",
      "_interpolate called\n"
     ]
    },
    {
     "ename": "ValueError",
     "evalue": "The channel dimension of the inputs should be defined. Found `None`.",
     "output_type": "error",
     "traceback": [
      "\u001b[0;31m---------------------------------------------------------------------------\u001b[0m",
      "\u001b[0;31mValueError\u001b[0m                                Traceback (most recent call last)",
      "\u001b[0;32m<ipython-input-3-712397295174>\u001b[0m in \u001b[0;36m<module>\u001b[0;34m\u001b[0m\n\u001b[0;32m----> 1\u001b[0;31m \u001b[0mmodel\u001b[0m \u001b[0;34m=\u001b[0m \u001b[0mSTN\u001b[0m\u001b[0;34m(\u001b[0m\u001b[0;34m)\u001b[0m\u001b[0;34m\u001b[0m\u001b[0;34m\u001b[0m\u001b[0m\n\u001b[0m\u001b[1;32m      2\u001b[0m \u001b[0mmodel\u001b[0m\u001b[0;34m.\u001b[0m\u001b[0mcompile\u001b[0m\u001b[0;34m(\u001b[0m\u001b[0mloss\u001b[0m\u001b[0;34m=\u001b[0m\u001b[0;34m'categorical_crossentropy'\u001b[0m\u001b[0;34m,\u001b[0m \u001b[0moptimizer\u001b[0m\u001b[0;34m=\u001b[0m\u001b[0;34m'adam'\u001b[0m\u001b[0;34m)\u001b[0m\u001b[0;34m\u001b[0m\u001b[0;34m\u001b[0m\u001b[0m\n\u001b[1;32m      3\u001b[0m \u001b[0mmodel\u001b[0m\u001b[0;34m.\u001b[0m\u001b[0msummary\u001b[0m\u001b[0;34m(\u001b[0m\u001b[0;34m)\u001b[0m\u001b[0;34m\u001b[0m\u001b[0;34m\u001b[0m\u001b[0m\n",
      "\u001b[0;32m~/coradek/WorkSpace/KerasSTN/src/models/STN.py\u001b[0m in \u001b[0;36mSTN\u001b[0;34m(input_shape, sampling_size, num_classes)\u001b[0m\n\u001b[1;32m     24\u001b[0m     x = BilinearInterpolation(sampling_size,\n\u001b[1;32m     25\u001b[0m                               name=\"BilinearInterpolation\")([image, locnet])\n\u001b[0;32m---> 26\u001b[0;31m     \u001b[0mx\u001b[0m \u001b[0;34m=\u001b[0m \u001b[0mConv2D\u001b[0m\u001b[0;34m(\u001b[0m\u001b[0;36m32\u001b[0m\u001b[0;34m,\u001b[0m \u001b[0;34m(\u001b[0m\u001b[0;36m3\u001b[0m\u001b[0;34m,\u001b[0m \u001b[0;36m3\u001b[0m\u001b[0;34m)\u001b[0m\u001b[0;34m,\u001b[0m \u001b[0mpadding\u001b[0m\u001b[0;34m=\u001b[0m\u001b[0;34m'same'\u001b[0m\u001b[0;34m)\u001b[0m\u001b[0;34m(\u001b[0m\u001b[0mx\u001b[0m\u001b[0;34m)\u001b[0m\u001b[0;34m\u001b[0m\u001b[0;34m\u001b[0m\u001b[0m\n\u001b[0m\u001b[1;32m     27\u001b[0m     \u001b[0mx\u001b[0m \u001b[0;34m=\u001b[0m \u001b[0mActivation\u001b[0m\u001b[0;34m(\u001b[0m\u001b[0;34m'relu'\u001b[0m\u001b[0;34m)\u001b[0m\u001b[0;34m(\u001b[0m\u001b[0mx\u001b[0m\u001b[0;34m)\u001b[0m\u001b[0;34m\u001b[0m\u001b[0;34m\u001b[0m\u001b[0m\n\u001b[1;32m     28\u001b[0m     \u001b[0;31m# x = MaxPool2D(pool_size=(2, 2))(x)\u001b[0m\u001b[0;34m\u001b[0m\u001b[0;34m\u001b[0m\u001b[0;34m\u001b[0m\u001b[0m\n",
      "\u001b[0;32m~/.local/share/virtualenvs/NeuralNetworkPlayground-cDShKmF9/lib/python3.6/site-packages/tensorflow/python/keras/engine/base_layer.py\u001b[0m in \u001b[0;36m__call__\u001b[0;34m(self, inputs, *args, **kwargs)\u001b[0m\n\u001b[1;32m    757\u001b[0m           \u001b[0;31m# the user has manually overwritten the build method do we need to\u001b[0m\u001b[0;34m\u001b[0m\u001b[0;34m\u001b[0m\u001b[0;34m\u001b[0m\u001b[0m\n\u001b[1;32m    758\u001b[0m           \u001b[0;31m# build it.\u001b[0m\u001b[0;34m\u001b[0m\u001b[0;34m\u001b[0m\u001b[0;34m\u001b[0m\u001b[0m\n\u001b[0;32m--> 759\u001b[0;31m           \u001b[0mself\u001b[0m\u001b[0;34m.\u001b[0m\u001b[0mbuild\u001b[0m\u001b[0;34m(\u001b[0m\u001b[0minput_shapes\u001b[0m\u001b[0;34m)\u001b[0m\u001b[0;34m\u001b[0m\u001b[0;34m\u001b[0m\u001b[0m\n\u001b[0m\u001b[1;32m    760\u001b[0m         \u001b[0;31m# We must set self.built since user defined build functions are not\u001b[0m\u001b[0;34m\u001b[0m\u001b[0;34m\u001b[0m\u001b[0;34m\u001b[0m\u001b[0m\n\u001b[1;32m    761\u001b[0m         \u001b[0;31m# constrained to set self.built.\u001b[0m\u001b[0;34m\u001b[0m\u001b[0;34m\u001b[0m\u001b[0;34m\u001b[0m\u001b[0m\n",
      "\u001b[0;32m~/.local/share/virtualenvs/NeuralNetworkPlayground-cDShKmF9/lib/python3.6/site-packages/tensorflow/python/keras/layers/convolutional.py\u001b[0m in \u001b[0;36mbuild\u001b[0;34m(self, input_shape)\u001b[0m\n\u001b[1;32m    147\u001b[0m       \u001b[0mchannel_axis\u001b[0m \u001b[0;34m=\u001b[0m \u001b[0;34m-\u001b[0m\u001b[0;36m1\u001b[0m\u001b[0;34m\u001b[0m\u001b[0;34m\u001b[0m\u001b[0m\n\u001b[1;32m    148\u001b[0m     \u001b[0;32mif\u001b[0m \u001b[0minput_shape\u001b[0m\u001b[0;34m[\u001b[0m\u001b[0mchannel_axis\u001b[0m\u001b[0;34m]\u001b[0m\u001b[0;34m.\u001b[0m\u001b[0mvalue\u001b[0m \u001b[0;32mis\u001b[0m \u001b[0;32mNone\u001b[0m\u001b[0;34m:\u001b[0m\u001b[0;34m\u001b[0m\u001b[0;34m\u001b[0m\u001b[0m\n\u001b[0;32m--> 149\u001b[0;31m       raise ValueError('The channel dimension of the inputs '\n\u001b[0m\u001b[1;32m    150\u001b[0m                        'should be defined. Found `None`.')\n\u001b[1;32m    151\u001b[0m     \u001b[0minput_dim\u001b[0m \u001b[0;34m=\u001b[0m \u001b[0mint\u001b[0m\u001b[0;34m(\u001b[0m\u001b[0minput_shape\u001b[0m\u001b[0;34m[\u001b[0m\u001b[0mchannel_axis\u001b[0m\u001b[0;34m]\u001b[0m\u001b[0;34m)\u001b[0m\u001b[0;34m\u001b[0m\u001b[0;34m\u001b[0m\u001b[0m\n",
      "\u001b[0;31mValueError\u001b[0m: The channel dimension of the inputs should be defined. Found `None`."
     ]
    }
   ],
   "source": [
    "model = STN()\n",
    "model.compile(loss='categorical_crossentropy', optimizer='adam')\n",
    "model.summary()"
   ]
  },
  {
   "cell_type": "code",
   "execution_count": null,
   "metadata": {},
   "outputs": [],
   "source": [
    "# from models.layers import BilinearInterpolation\n",
    "# from tensorflow.python.keras.layers import Input, MaxPool2D, Conv2D, Dense, Activation, Flatten\n",
    "# from tensorflow.python.keras.models import Model\n",
    "\n",
    "# sample = x_train[7]\n",
    "# input_shape = (60, 60, 1)\n",
    "# image = Input(shape=input_shape, name=\"initial_input\")\n",
    "# locnet = MaxPool2D(pool_size=(2, 2), name=\"maxp_1\")(image)\n",
    "# locnet = Conv2D(20, (5, 5), name=\"conv_1\")(locnet)\n",
    "\n",
    "# # locnet = Flatten(name=\"flatten_1\")(locnet)\n",
    "# # locnet = Dense(5, name=\"dense_1\")(locnet)\n",
    "# # locnet = Activation('relu', name=\"actv_1\")(locnet)\n",
    "# model = Model(inputs=image, outputs=locnet)\n",
    "\n",
    "# model.compile(optimizer='adagrad')\n",
    "# output = model.predict(sample)\n",
    "\n",
    "##################\n",
    "\n",
    "# bli = model.get_layer(\"BilinearInterpolation\").output\n",
    "# bli.shape"
   ]
  },
  {
   "cell_type": "markdown",
   "metadata": {},
   "source": [
    "## Fit, Train, Evaluate"
   ]
  },
  {
   "cell_type": "code",
   "execution_count": null,
   "metadata": {},
   "outputs": [],
   "source": [
    "# model.fit(x_train, y_train, batch_size=BATCH_SIZE, epochs=EPOCHS)"
   ]
  },
  {
   "cell_type": "code",
   "execution_count": null,
   "metadata": {},
   "outputs": [],
   "source": [
    "# input_image = model.input\n",
    "# # output_STN = model.get_layer('bilinear_interpolation_1').output\n",
    "# output_STN = model.get_layer('BilinearInterpolation').output\n",
    "# STN_function = K.function([input_image], [output_STN])\n",
    "\n",
    "# for epoch_arg in range(num_epochs):\n",
    "#     for batch_arg in range(batch_size):\n",
    "#         arg_0 = batch_arg * batch_size\n",
    "#         arg_1 = (batch_arg + 1) * batch_size\n",
    "#         x_batch, y_batch = x_train[arg_0:arg_1], y_train[arg_0:arg_1]\n",
    "#         loss = model.train_on_batch(x_batch, y_batch)\n",
    "#     if epoch_arg % 10 == 0:\n",
    "#         val_score = model.evaluate(*val_data, verbose=1)\n",
    "#         test_score = model.evaluate(*test_data, verbose=1)\n",
    "#         print_evaluation(epoch_arg, val_score, test_score)\n",
    "#         plot_mnist_grid(x_batch, STN_function)\n",
    "#         print('-' * 40)"
   ]
  },
  {
   "cell_type": "code",
   "execution_count": null,
   "metadata": {},
   "outputs": [],
   "source": [
    "# plot_mnist_grid(x_train)\n",
    "# plot_mnist_grid(x_train, STN_function)"
   ]
  }
 ],
 "metadata": {
  "kernelspec": {
   "display_name": "NeuralNetworkPlayground",
   "language": "python",
   "name": "neuralnetworkplayground"
  },
  "language_info": {
   "codemirror_mode": {
    "name": "ipython",
    "version": 3
   },
   "file_extension": ".py",
   "mimetype": "text/x-python",
   "name": "python",
   "nbconvert_exporter": "python",
   "pygments_lexer": "ipython3",
   "version": "3.6.7"
  }
 },
 "nbformat": 4,
 "nbformat_minor": 2
}
